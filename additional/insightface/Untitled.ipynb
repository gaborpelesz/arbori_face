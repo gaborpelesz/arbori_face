{
 "cells": [
  {
   "cell_type": "code",
   "execution_count": 4,
   "metadata": {},
   "outputs": [],
   "source": [
    "from retina_face_recognition import Recognition\n",
    "import insightface\n",
    "import cv2\n",
    "from matplotlib.pyplot import imshow\n",
    "import numpy as np\n",
    "from PIL import Image\n",
    "import os\n",
    "\n",
    "def show(img):\n",
    "    img = cv2.cvtColor(img, cv2.COLOR_BGR2RGB)\n",
    "    imshow(img)"
   ]
  },
  {
   "cell_type": "code",
   "execution_count": 14,
   "metadata": {},
   "outputs": [],
   "source": [
    "def get_embeddings(directory, resize_to=(112,112)):\n",
    "    model = Recognition()\n",
    "    embeddings = []\n",
    "    \n",
    "    urls = []\n",
    "    for img_file in os.listdir(directory):\n",
    "        if not img_file.startswith('.'):\n",
    "            urls.append(os.path.join(directory, img_file))\n",
    "            \n",
    "    for url in urls:\n",
    "        img = cv2.imread(url, 1)\n",
    "        print(url)\n",
    "        if resize_to:\n",
    "            img = cv2.resize(img, resize_to)\n",
    "            embeddings.append(model.get_embedding(img))\n",
    "            \n",
    "    return embeddings"
   ]
  },
  {
   "cell_type": "code",
   "execution_count": 60,
   "metadata": {
    "scrolled": true
   },
   "outputs": [
    {
     "name": "stdout",
     "output_type": "stream",
     "text": [
      "images/faces/gabor/14.jpg\n",
      "images/faces/gabor/28.jpg\n",
      "images/faces/gabor/15.jpg\n",
      "images/faces/gabor/17.jpg\n",
      "images/faces/gabor/16.jpg\n",
      "images/faces/gabor/12.jpg\n",
      "images/faces/gabor/13.jpg\n",
      "images/faces/gabor/11.jpg\n",
      "images/faces/gabor/38.jpg\n",
      "images/faces/gabor/21.jpg\n",
      "images/faces/gabor/35.jpg\n",
      "images/faces/gabor/34.jpg\n",
      "images/faces/gabor/20.jpg\n",
      "images/faces/gabor/36.jpg\n",
      "images/faces/gabor/22.jpg\n",
      "images/faces/gabor/23.jpg\n",
      "images/faces/gabor/37.jpg\n",
      "images/faces/gabor/33.jpg\n",
      "images/faces/gabor/27.jpg\n",
      "images/faces/gabor/26.jpg\n",
      "images/faces/gabor/32.jpg\n",
      "images/faces/gabor/18.jpg\n",
      "images/faces/gabor/24.jpg\n",
      "images/faces/gabor/25.jpg\n",
      "images/faces/gabor/19.jpg\n",
      "images/faces/gabor/4.jpg\n",
      "images/faces/gabor/5.jpg\n",
      "images/faces/gabor/6.jpg\n",
      "images/faces/gabor/2.jpg\n",
      "images/faces/gabor/3.jpg\n",
      "images/faces/nono/8.jpg\n",
      "images/faces/nono/9.jpg\n",
      "images/faces/nono/29.jpg\n",
      "images/faces/nono/15.jpg\n",
      "images/faces/nono/16.jpg\n",
      "images/faces/nono/12.jpg\n",
      "images/faces/nono/39.jpg\n",
      "images/faces/nono/11.jpg\n",
      "images/faces/nono/10.jpg\n",
      "images/faces/nono/38.jpg\n",
      "images/faces/nono/21.jpg\n",
      "images/faces/nono/34.jpg\n",
      "images/faces/nono/36.jpg\n",
      "images/faces/nono/22.jpg\n",
      "images/faces/nono/37.jpg\n",
      "images/faces/nono/33.jpg\n",
      "images/faces/nono/27.jpg\n",
      "images/faces/nono/32.jpg\n",
      "images/faces/nono/30.jpg\n",
      "images/faces/nono/31.jpg\n",
      "images/faces/nono/4.jpg\n",
      "images/faces/nono/5.jpg\n",
      "images/faces/nono/7.jpg\n",
      "images/faces/nono/6.jpg\n",
      "images/faces/nono/2.jpg\n",
      "images/faces/nono/3.jpg\n",
      "images/faces/nono/1.jpg\n"
     ]
    },
    {
     "ename": "NameError",
     "evalue": "name 'savez_compressed' is not defined",
     "output_type": "error",
     "traceback": [
      "\u001b[0;31m---------------------------------------------------------------------------\u001b[0m",
      "\u001b[0;31mNameError\u001b[0m                                 Traceback (most recent call last)",
      "\u001b[0;32m<ipython-input-60-f0dfbb4ad13f>\u001b[0m in \u001b[0;36m<module>\u001b[0;34m\u001b[0m\n\u001b[1;32m      1\u001b[0m \u001b[0mgabor_embs\u001b[0m \u001b[0;34m=\u001b[0m \u001b[0mget_embeddings\u001b[0m\u001b[0;34m(\u001b[0m\u001b[0;34m'images/faces/gabor'\u001b[0m\u001b[0;34m)\u001b[0m\u001b[0;34m\u001b[0m\u001b[0;34m\u001b[0m\u001b[0m\n\u001b[1;32m      2\u001b[0m \u001b[0mnono_embs\u001b[0m \u001b[0;34m=\u001b[0m \u001b[0mget_embeddings\u001b[0m\u001b[0;34m(\u001b[0m\u001b[0;34m'images/faces/nono'\u001b[0m\u001b[0;34m)\u001b[0m\u001b[0;34m\u001b[0m\u001b[0;34m\u001b[0m\u001b[0m\n\u001b[0;32m----> 3\u001b[0;31m \u001b[0msavez_compressed\u001b[0m\u001b[0;34m(\u001b[0m\u001b[0;34m'faces.npz'\u001b[0m\u001b[0;34m,\u001b[0m \u001b[0mgabor_embs\u001b[0m\u001b[0;34m,\u001b[0m \u001b[0mnono_embs\u001b[0m\u001b[0;34m)\u001b[0m\u001b[0;34m\u001b[0m\u001b[0;34m\u001b[0m\u001b[0m\n\u001b[0m",
      "\u001b[0;31mNameError\u001b[0m: name 'savez_compressed' is not defined"
     ]
    }
   ],
   "source": [
    "gabor_embs = get_embeddings('images/faces/gabor')\n",
    "nono_embs = get_embeddings('images/faces/nono')\n"
   ]
  },
  {
   "cell_type": "code",
   "execution_count": 61,
   "metadata": {},
   "outputs": [],
   "source": [
    "np.savez_compressed('faces.npz', gabor_embs, nono_embs)"
   ]
  },
  {
   "cell_type": "code",
   "execution_count": 27,
   "metadata": {},
   "outputs": [],
   "source": [
    "from sklearn import preprocessing"
   ]
  },
  {
   "cell_type": "code",
   "execution_count": 74,
   "metadata": {},
   "outputs": [],
   "source": [
    "from numpy.linalg import norm\n",
    "gabor_dists = []\n",
    "\n",
    "for embed1 in gabor_embs:\n",
    "    for embed2 in gabor_embs:\n",
    "        embed1 = embed1.flatten()\n",
    "        embed2 = embed2.flatten()\n",
    "        dist = np.dot(embed1, embed2)/(norm(embed1)*norm(embed2))\n",
    "        #diff = np.subtract(embed1, embed2)\n",
    "        #dist = np.sum(np.square(diff),1)\n",
    "        if dist != 0:\n",
    "            gabor_dists.append(dist)"
   ]
  },
  {
   "cell_type": "code",
   "execution_count": 77,
   "metadata": {},
   "outputs": [
    {
     "data": {
      "text/plain": [
       "0.37712398"
      ]
     },
     "execution_count": 77,
     "metadata": {},
     "output_type": "execute_result"
    }
   ],
   "source": [
    "np.mean(np.array(gabor_dists))"
   ]
  },
  {
   "cell_type": "code",
   "execution_count": 24,
   "metadata": {},
   "outputs": [
    {
     "data": {
      "text/plain": [
       "18.38532"
      ]
     },
     "execution_count": 24,
     "metadata": {},
     "output_type": "execute_result"
    }
   ],
   "source": [
    "l2_norm = []\n",
    "for emb in nono_embs:\n",
    "    l2_norm.append(np.sqrt(np.sum(emb**2)))\n",
    "np.mean(np.array(l2_norm))"
   ]
  },
  {
   "cell_type": "code",
   "execution_count": 25,
   "metadata": {},
   "outputs": [
    {
     "data": {
      "text/plain": [
       "18.253578"
      ]
     },
     "execution_count": 25,
     "metadata": {},
     "output_type": "execute_result"
    }
   ],
   "source": [
    "l2_norm = []\n",
    "for emb in gabor_embs:\n",
    "    l2_norm.append(np.sqrt(np.sum(emb**2)))\n",
    "np.mean(np.array(l2_norm))"
   ]
  },
  {
   "cell_type": "code",
   "execution_count": 55,
   "metadata": {},
   "outputs": [
    {
     "data": {
      "text/plain": [
       "20.572674"
      ]
     },
     "execution_count": 55,
     "metadata": {},
     "output_type": "execute_result"
    }
   ],
   "source": [
    "np.abs(np.sum(gabor_emb[2] - gabor_emb[1]))"
   ]
  }
 ],
 "metadata": {
  "kernelspec": {
   "display_name": "Python 3",
   "language": "python",
   "name": "python3"
  },
  "language_info": {
   "codemirror_mode": {
    "name": "ipython",
    "version": 3
   },
   "file_extension": ".py",
   "mimetype": "text/x-python",
   "name": "python",
   "nbconvert_exporter": "python",
   "pygments_lexer": "ipython3",
   "version": "3.7.3"
  }
 },
 "nbformat": 4,
 "nbformat_minor": 2
}
