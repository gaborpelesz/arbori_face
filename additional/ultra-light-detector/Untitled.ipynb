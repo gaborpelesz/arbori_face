{
 "cells": [
  {
   "cell_type": "code",
   "execution_count": 1,
   "metadata": {},
   "outputs": [],
   "source": [
    "import insightface"
   ]
  },
  {
   "cell_type": "code",
   "execution_count": 2,
   "metadata": {},
   "outputs": [
    {
     "name": "stdout",
     "output_type": "stream",
     "text": [
      "Help on package insightface:\n",
      "\n",
      "NAME\n",
      "    insightface - InsightFace: A Face Analysis Toolkit.\n",
      "\n",
      "PACKAGE CONTENTS\n",
      "    app (package)\n",
      "    model_zoo (package)\n",
      "    utils (package)\n",
      "\n",
      "DATA\n",
      "    absolute_import = _Feature((2, 5, 0, 'alpha', 1), (3, 0, 0, 'alpha', 0...\n",
      "\n",
      "VERSION\n",
      "    0.1.5\n",
      "\n",
      "FILE\n",
      "    /Library/Frameworks/Python.framework/Versions/3.7/lib/python3.7/site-packages/insightface/__init__.py\n",
      "\n",
      "\n"
     ]
    }
   ],
   "source": [
    "help(insightface)"
   ]
  },
  {
   "cell_type": "code",
   "execution_count": 30,
   "metadata": {},
   "outputs": [
    {
     "name": "stdout",
     "output_type": "stream",
     "text": [
      "Help on package insightface.model_zoo in insightface:\n",
      "\n",
      "NAME\n",
      "    insightface.model_zoo\n",
      "\n",
      "PACKAGE CONTENTS\n",
      "    face_detection\n",
      "    face_genderage\n",
      "    face_recognition\n",
      "    model_store\n",
      "    model_zoo\n",
      "\n",
      "FILE\n",
      "    /Library/Frameworks/Python.framework/Versions/3.7/lib/python3.7/site-packages/insightface/model_zoo/__init__.py\n",
      "\n",
      "\n"
     ]
    }
   ],
   "source": [
    "help(insightface.model_zoo)"
   ]
  },
  {
   "cell_type": "code",
   "execution_count": 11,
   "metadata": {},
   "outputs": [
    {
     "data": {
      "text/plain": [
       "['arcface_r100_v1',\n",
       " 'genderage_v1',\n",
       " 'retinaface_mnet025_v1',\n",
       " 'retinaface_mnet025_v2',\n",
       " 'retinaface_r50_v1']"
      ]
     },
     "execution_count": 11,
     "metadata": {},
     "output_type": "execute_result"
    }
   ],
   "source": [
    "insightface.model_zoo.model_zoo.get_model_list()"
   ]
  },
  {
   "cell_type": "code",
   "execution_count": 17,
   "metadata": {},
   "outputs": [
    {
     "name": "stdout",
     "output_type": "stream",
     "text": [
      "Help on function get_model in module insightface.model_zoo.model_zoo:\n",
      "\n",
      "get_model(name, **kwargs)\n",
      "    Returns a pre-defined model by name\n",
      "    \n",
      "    Parameters\n",
      "    ----------\n",
      "    name : str\n",
      "        Name of the model.\n",
      "    root : str, default '~/.insightface/models'\n",
      "        Location for keeping the model parameters.\n",
      "    \n",
      "    Returns\n",
      "    -------\n",
      "    Model\n",
      "        The model.\n",
      "\n"
     ]
    }
   ],
   "source": [
    "help(insightface.model_zoo.get_model)"
   ]
  }
 ],
 "metadata": {
  "kernelspec": {
   "display_name": "Python 3",
   "language": "python",
   "name": "python3"
  },
  "language_info": {
   "codemirror_mode": {
    "name": "ipython",
    "version": 3
   },
   "file_extension": ".py",
   "mimetype": "text/x-python",
   "name": "python",
   "nbconvert_exporter": "python",
   "pygments_lexer": "ipython3",
   "version": "3.7.3"
  }
 },
 "nbformat": 4,
 "nbformat_minor": 2
}
