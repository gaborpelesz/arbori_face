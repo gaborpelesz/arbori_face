{
 "cells": [
  {
   "cell_type": "code",
   "execution_count": 24,
   "metadata": {},
   "outputs": [],
   "source": [
    "from retina_face_recognition import Recognition\n",
    "import insightface\n",
    "import cv2\n",
    "from matplotlib.pyplot import imshow\n",
    "import numpy as np\n",
    "from PIL import Image\n",
    "\n",
    "def show(img):\n",
    "    img = cv2.cvtColor(img, cv2.COLOR_BGR2RGB)\n",
    "    imshow(img)"
   ]
  },
  {
   "cell_type": "code",
   "execution_count": 34,
   "metadata": {},
   "outputs": [],
   "source": [
    "\n",
    "nono = []\n",
    "recog = Recognition()"
   ]
  },
  {
   "cell_type": "code",
   "execution_count": 45,
   "metadata": {},
   "outputs": [],
   "source": [
    "gabor = []\n",
    "\n",
    "gabor_urls = [\n",
    "    'images/faces/gabor/13.jpg',\n",
    "    'images/faces/gabor/23.jpg',\n",
    "    'images/faces/gabor/36.jpg'\n",
    "]\n",
    "\n",
    "for url in gabor_urls:\n",
    "    gabor.append(cv2.imread(url, 1))\n",
    "\n",
    "gabor_emb = [\n",
    "    recog.get_embedding(cv2.resize(gabor[0], (112,112))),\n",
    "    recog.get_embedding(cv2.resize(gabor[1], (112,112))),\n",
    "    recog.get_embedding(cv2.resize(gabor[2], (112,112)))\n",
    "]"
   ]
  },
  {
   "cell_type": "code",
   "execution_count": null,
   "metadata": {},
   "outputs": [],
   "source": [
    "nono = []\n",
    "\n",
    "nono_urls = [\n",
    "    ''images/faces/nono/36.jpg'',\n",
    "    'images/faces/gabor/23.jpg',\n",
    "    'images/faces/gabor/36.jpg'\n",
    "]\n",
    "\n",
    "for url in nono_urls:\n",
    "    nono.append(cv2.imread(url, 1))\n",
    "\n",
    "nono_emb = [\n",
    "    recog.get_embedding(cv2.resize(nono[0], (112,112))),\n",
    "    recog.get_embedding(cv2.resize(nono[1], (112,112))),\n",
    "    recog.get_embedding(cv2.resize(nono[2], (112,112)))\n",
    "]"
   ]
  },
  {
   "cell_type": "code",
   "execution_count": 43,
   "metadata": {},
   "outputs": [
    {
     "data": {
      "text/plain": [
       "8.83615"
      ]
     },
     "execution_count": 43,
     "metadata": {},
     "output_type": "execute_result"
    }
   ],
   "source": [
    "np.abs(np.sum(gabor_emb[2] - gabor_emb[0]))"
   ]
  }
 ],
 "metadata": {
  "kernelspec": {
   "display_name": "Python 3",
   "language": "python",
   "name": "python3"
  },
  "language_info": {
   "codemirror_mode": {
    "name": "ipython",
    "version": 3
   },
   "file_extension": ".py",
   "mimetype": "text/x-python",
   "name": "python",
   "nbconvert_exporter": "python",
   "pygments_lexer": "ipython3",
   "version": "3.7.3"
  }
 },
 "nbformat": 4,
 "nbformat_minor": 2
}
